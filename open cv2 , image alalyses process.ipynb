{
 "cells": [
  {
   "cell_type": "code",
   "execution_count": 4,
   "id": "ba9d5d65",
   "metadata": {},
   "outputs": [
    {
     "name": "stdout",
     "output_type": "stream",
     "text": [
      "Requirement already satisfied: opencv-python in c:\\users\\khara\\anaconda3\\lib\\site-packages (4.8.0.76)\n",
      "Requirement already satisfied: numpy>=1.21.2 in c:\\users\\khara\\anaconda3\\lib\\site-packages (from opencv-python) (1.24.3)\n",
      "Note: you may need to restart the kernel to use updated packages.\n"
     ]
    }
   ],
   "source": [
    "pip install opencv-python"
   ]
  },
  {
   "cell_type": "code",
   "execution_count": 5,
   "id": "28936c81",
   "metadata": {},
   "outputs": [],
   "source": [
    "import cv2"
   ]
  },
  {
   "cell_type": "code",
   "execution_count": 8,
   "id": "6577fce1",
   "metadata": {},
   "outputs": [
    {
     "name": "stdout",
     "output_type": "stream",
     "text": [
      "<class 'numpy.ndarray'>\n"
     ]
    }
   ],
   "source": [
    "img=cv2.imread(\"D:\\pepole\\image2.jpg\",cv2.IMREAD_COLOR)\n",
    "print(type(img))"
   ]
  },
  {
   "cell_type": "markdown",
   "id": "e1402e2e",
   "metadata": {},
   "source": [
    "IMAGE:-Read,resize,waitKey(image_hold_on screen time),destroy (close all images) "
   ]
  },
  {
   "cell_type": "code",
   "execution_count": 33,
   "id": "395bc211",
   "metadata": {},
   "outputs": [],
   "source": [
    "img=cv2.imread(\"D:\\pepole\\image2.jpg\",cv2.IMREAD_COLOR)\n",
    "cv2.resize(img,(11,500))\n",
    "cv2.imshow('myimg',img)\n",
    "cv2.waitKey(4000) # screen hold time\n",
    "cv2.destroyAllWindows()"
   ]
  },
  {
   "cell_type": "markdown",
   "id": "f3673456",
   "metadata": {},
   "source": [
    "IMAGE:-flip"
   ]
  },
  {
   "cell_type": "code",
   "execution_count": 39,
   "id": "3bc3d9f8",
   "metadata": {},
   "outputs": [],
   "source": [
    "img=cv2.imread(\"D:\\pepole\\image2.jpg\",cv2.IMREAD_COLOR)\n",
    "img1=cv2.flip(img,0)\n",
    "img2=cv2.flip(img,1)\n",
    "img3=cv2.flip(img,2)\n",
    "img4=cv2.flip(img,3)\n",
    "\n",
    "cv2.imshow('myimg1',img1)\n",
    "cv2.imshow('myimg2',img2)\n",
    "cv2.imshow('myimg3',img3)\n",
    "cv2.imshow('myimg4',img4)\n",
    "cv2.waitKey()\n",
    "cv2.destroyAllWindows()"
   ]
  },
  {
   "cell_type": "markdown",
   "id": "da4e6862",
   "metadata": {},
   "source": [
    "convertScaleAbs() for IMAGE:-Contrast(alpha:-control contrast rangr1-3) and beta:-control brightness range(0-100))"
   ]
  },
  {
   "cell_type": "code",
   "execution_count": 55,
   "id": "2d2e0b8b",
   "metadata": {},
   "outputs": [],
   "source": [
    "img=cv2.imread(\"D:\\pepole\\image2.jpg\",cv2.IMREAD_COLOR)\n",
    "img=cv2.convertScaleAbs(img,alpha=2)\n",
    "cv2.imshow('myimg',img)\n",
    "cv2.waitKey(4000) # screen hold time\n",
    "cv2.destroyAllWindows()"
   ]
  },
  {
   "cell_type": "code",
   "execution_count": 59,
   "id": "032534b0",
   "metadata": {},
   "outputs": [],
   "source": [
    "img=cv2.imread(\"D:\\pepole\\image2.jpg\",cv2.IMREAD_COLOR)\n",
    "img=cv2.convertScaleAbs(img,beta=100)\n",
    "cv2.imshow('myimg',img)\n",
    "cv2.waitKey(4000) # screen hold time\n",
    "cv2.destroyAllWindows()"
   ]
  },
  {
   "cell_type": "code",
   "execution_count": 60,
   "id": "115f0a01",
   "metadata": {},
   "outputs": [],
   "source": [
    "img=cv2.imread(\"D:\\pepole\\image2.jpg\",cv2.IMREAD_COLOR)\n",
    "img=cv2.convertScaleAbs(img,alpha=2,beta=30)\n",
    "cv2.imshow('myimg',img)\n",
    "cv2.waitKey(4000) # screen hold time\n",
    "cv2.destroyAllWindows()"
   ]
  },
  {
   "cell_type": "markdown",
   "id": "5af22524",
   "metadata": {},
   "source": [
    "How to draw a line and rectangle on image "
   ]
  },
  {
   "cell_type": "code",
   "execution_count": 102,
   "id": "8a6cc230",
   "metadata": {},
   "outputs": [],
   "source": [
    "img=cv2.imread(\"D:\\pepole\\image2.jpg\",cv2.IMREAD_COLOR)\n",
    "cv2.line(img,(100,100),(250,100),(0,255,255),2)\n",
    "cv2.imshow('myimg',img)\n",
    "cv2.waitKey(4000) # screen hold time\n",
    "cv2.destroyAllWindows()"
   ]
  },
  {
   "cell_type": "code",
   "execution_count": 106,
   "id": "760a95e5",
   "metadata": {},
   "outputs": [],
   "source": [
    "img=cv2.imread(\"D:\\pepole\\image2.jpg\",cv2.IMREAD_COLOR)\n",
    "cv2.rectangle(img,(20,60),(195,280),(0,255,255),2)\n",
    "cv2.imshow('myimg',img)\n",
    "cv2.waitKey(4000) # screen hold time\n",
    "cv2.destroyAllWindows()"
   ]
  },
  {
   "cell_type": "markdown",
   "id": "730ca1bb",
   "metadata": {},
   "source": [
    "FONT_HERSHEY_PLAIN() #font size and color\n"
   ]
  },
  {
   "cell_type": "code",
   "execution_count": 119,
   "id": "80aee37f",
   "metadata": {},
   "outputs": [],
   "source": [
    "img=cv2.imread(\"D:\\pepole\\image2.jpg\",cv2.IMREAD_COLOR)\n",
    "cv2.rectangle(img,(20,60),(195,280),(0,255,255),2)\n",
    "cv2.putText(img,\"Robat\",(20,55),cv2.FONT_HERSHEY_PLAIN,2,(0,0,255),2)\n",
    "cv2.imshow('myimg',img)\n",
    "cv2.waitKey(4000) # screen hold time\n",
    "cv2.destroyAllWindows()"
   ]
  },
  {
   "cell_type": "code",
   "execution_count": null,
   "id": "0bd3c6de",
   "metadata": {},
   "outputs": [],
   "source": []
  }
 ],
 "metadata": {
  "kernelspec": {
   "display_name": "Python 3 (ipykernel)",
   "language": "python",
   "name": "python3"
  },
  "language_info": {
   "codemirror_mode": {
    "name": "ipython",
    "version": 3
   },
   "file_extension": ".py",
   "mimetype": "text/x-python",
   "name": "python",
   "nbconvert_exporter": "python",
   "pygments_lexer": "ipython3",
   "version": "3.11.4"
  }
 },
 "nbformat": 4,
 "nbformat_minor": 5
}
